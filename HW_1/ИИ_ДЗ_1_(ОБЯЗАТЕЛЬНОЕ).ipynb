{
  "cells": [
    {
      "cell_type": "markdown",
      "metadata": {
        "id": "bVbHQbDDjw9i"
      },
      "source": [
        "## ДЗ 1 (ОБЯЗАТЕЛЬНОЕ): Анализ температурных данных и мониторинг текущей температуры через OpenWeatherMap API\n",
        "\n",
        "**Описание задания:**  \n",
        "Вы аналитик в компании, занимающейся изучением климатических изменений и мониторингом температур в разных городах. Вам нужно провести анализ исторических данных о температуре для выявления сезонных закономерностей и аномалий. Также необходимо подключить API OpenWeatherMap для получения текущей температуры в выбранных городах и сравнить её с историческими данными.\n",
        "\n",
        "\n",
        "### Цели задания:\n",
        "1. Провести **анализ временных рядов**, включая:\n",
        "   - Вычисление скользящего среднего и стандартного отклонения для сглаживания температурных колебаний.\n",
        "   - Определение аномалий на основе отклонений температуры от $ \\text{скользящее среднее} \\pm 2\\sigma $.\n",
        "   - Построение долгосрочных трендов изменения температуры.\n",
        "   - Любые дополнительные исследования будут вам в плюс.\n",
        "\n",
        "2. Осуществить **мониторинг текущей температуры**:\n",
        "   - Получить текущую температуру через OpenWeatherMap API.\n",
        "   - Сравнить её с историческим нормальным диапазоном для текущего сезона.\n",
        "\n",
        "3. Разработать **интерактивное приложение**:\n",
        "   - Дать пользователю возможность выбрать город.\n",
        "   - Отобразить результаты анализа температур, включая временные ряды, сезонные профили и аномалии.\n",
        "   - Провести анализ текущей температуры в контексте исторических данных.\n",
        "\n",
        "\n",
        "### Описание данных\n",
        "Исторические данные о температуре содержатся в файле `temperature_data.csv`, включают:\n",
        "  - `city`: Название города.\n",
        "  - `timestamp`: Дата (с шагом в 1 день).\n",
        "  - `temperature`: Среднесуточная температура (в °C).\n",
        "  - `season`: Сезон года (зима, весна, лето, осень).\n",
        "\n",
        "Код для генерации файла вы найдете ниже.\n",
        "\n",
        "### Этапы выполнения\n",
        "\n",
        "1. **Анализ исторических данных**:\n",
        "   - Вычислить **скользящее среднее** температуры с окном в 30 дней для сглаживания краткосрочных колебаний.\n",
        "   - Рассчитать среднюю температуру и стандартное отклонение для каждого сезона в каждом городе.\n",
        "   - Выявить аномалии, где температура выходит за пределы $ \\text{среднее} \\pm 2\\sigma $.\n",
        "   - Попробуйте распараллелить проведение этого анализа. Сравните скорость выполнения анализа с распараллеливанием и без него.\n",
        "\n",
        "2. **Мониторинг текущей температуры**:\n",
        "   - Подключить OpenWeatherMap API для получения текущей температуры города. Для получения API Key (бесплатно) надо зарегистрироваться на сайте. Обратите внимание, что API Key может активироваться только через 2-3 часа, это нормально. Посему получите ключ заранее.\n",
        "   - Получить текущую температуру для выбранного города через OpenWeatherMap API.\n",
        "   - Определить, является ли текущая температура нормальной, исходя из исторических данных для текущего сезона.\n",
        "   - Данные на самом деле не совсем реальные (сюрпрайз). Поэтому на момент эксперимента погода в Берлине, Каире и Дубае была в рамках нормы, а в Пекине и Москве аномальная. Протестируйте свое решение для разных городов.\n",
        "   - Попробуйте для получения текущей температуры использовать синхронные и асинхронные методы. Что здесь лучше использовать?\n",
        "\n",
        "3. **Создание приложения на Streamlit**:\n",
        "   - Добавить интерфейс для загрузки файла с историческими данными.\n",
        "   - Добавить интерфейс для выбора города (из выпадающего списка).\n",
        "   - Добавить форму для ввода API-ключа OpenWeatherMap. Когда он не введен, данные для текущей погоды не показываются. Если ключ некорректный, выведите на экран ошибку (должно приходить `{\"cod\":401, \"message\": \"Invalid API key. Please see https://openweathermap.org/faq#error401 for more info.\"}`).\n",
        "   - Отобразить:\n",
        "     - Описательную статистику по историческим данным для города, можно добавить визуализации.\n",
        "     - Временной ряд температур с выделением аномалий (например, точками другого цвета).\n",
        "     - Сезонные профили с указанием среднего и стандартного отклонения.\n",
        "   - Вывести текущую температуру через API и указать, нормальна ли она для сезона.\n",
        "\n",
        "### Критерии оценивания\n",
        "\n",
        "- Корректное проведение анализа данных – 1 балл.\n",
        "- Исследование распараллеливания анализа – 1 балл.\n",
        "- Корректный поиск аномалий – 1 балл.\n",
        "- Подключение к API и корректность выполнения запроса – 1 балл.\n",
        "- Проведение эксперимента с синхронным и асинхронным способом запроса к API – 1 балл.\n",
        "- Создание интерфейса приложения streamlit в соответствии с описанием – 3 балла.\n",
        "- Корректное отображение графиков и статистик, а также сезонных профилей – 1 балл.\n",
        "- Корректный вывод текущей температуры в выбранном городе и проведение проверки на ее аномальность – 1 балл.\n",
        "- Любая дополнительная функциональность приветствуется и оценивается бонусными баллами (не более 2 в сумме) на усмотрение проверяющего.\n",
        "\n",
        "### Формат сдачи домашнего задания\n",
        "\n",
        "Решение нужно развернуть в Streamlit Cloud (бесплатно)\n",
        "\n",
        "*   Создаем новый репозиторий на GitHub.  \n",
        "*   Загружаем проект.\n",
        "*   Создаем аккаунт в [Streamlit Cloud](https://streamlit.io/cloud).\n",
        "*   Авторизуемся в Streamlit Cloud.\n",
        "*   Создаем новое приложение в Streamlit Cloud и подключаем GitHub-репозиторий.\n",
        "*   Deploy!\n",
        "\n",
        "Сдать в форму необходимо:\n",
        "1. Ссылку на развернутое в Streamlit Cloud приложение.\n",
        "2. Ссылку на код. Все выводы про, например, использование параллельности/асинхронности опишите в комментариях.\n",
        "\n",
        "Не забудьте удалить ключ API и иную чувствительную информацию.\n",
        "\n",
        "### Полезные ссылки\n",
        "*   [Оформление задачи Титаник на Streamlit](https://github.com/evgpat/streamlit_demo)\n",
        "*   [Документация Streamlit](https://docs.streamlit.io/)\n",
        "*   [Блог о Streamlit](https://blog.streamlit.io/)"
      ]
    },
    {
      "cell_type": "code",
      "execution_count": 1,
      "metadata": {},
      "outputs": [],
      "source": [
        "import time\n",
        "\n",
        "import pandas as pd\n",
        "import numpy as np\n",
        "\n",
        "import plotly.express as px\n",
        "\n",
        "import polars as pl\n",
        "import polars_ols as pls  \n",
        "import polars_ds as pds\n",
        "\n",
        "from sklearn.linear_model import LinearRegression\n",
        "\n",
        "import matplotlib.pyplot as plt\n",
        "\n",
        "import warnings\n",
        "warnings.filterwarnings('ignore')\n",
        "\n",
        "import requests\n",
        "import aiohttp\n",
        "import asyncio"
      ]
    },
    {
      "cell_type": "code",
      "execution_count": 2,
      "metadata": {
        "id": "SsrwTMhRj6dK"
      },
      "outputs": [],
      "source": [
        "# Реальные средние температуры (примерные данные) для городов по сезонам\n",
        "seasonal_temperatures = {\n",
        "    \"New York\": {\"winter\": 0, \"spring\": 10, \"summer\": 25, \"autumn\": 15},\n",
        "    \"London\": {\"winter\": 5, \"spring\": 11, \"summer\": 18, \"autumn\": 12},\n",
        "    \"Paris\": {\"winter\": 4, \"spring\": 12, \"summer\": 20, \"autumn\": 13},\n",
        "    \"Tokyo\": {\"winter\": 6, \"spring\": 15, \"summer\": 27, \"autumn\": 18},\n",
        "    \"Moscow\": {\"winter\": -10, \"spring\": 5, \"summer\": 18, \"autumn\": 8},\n",
        "    \"Sydney\": {\"winter\": 12, \"spring\": 18, \"summer\": 25, \"autumn\": 20},\n",
        "    \"Berlin\": {\"winter\": 0, \"spring\": 10, \"summer\": 20, \"autumn\": 11},\n",
        "    \"Beijing\": {\"winter\": -2, \"spring\": 13, \"summer\": 27, \"autumn\": 16},\n",
        "    \"Rio de Janeiro\": {\"winter\": 20, \"spring\": 25, \"summer\": 30, \"autumn\": 25},\n",
        "    \"Dubai\": {\"winter\": 20, \"spring\": 30, \"summer\": 40, \"autumn\": 30},\n",
        "    \"Los Angeles\": {\"winter\": 15, \"spring\": 18, \"summer\": 25, \"autumn\": 20},\n",
        "    \"Singapore\": {\"winter\": 27, \"spring\": 28, \"summer\": 28, \"autumn\": 27},\n",
        "    \"Mumbai\": {\"winter\": 25, \"spring\": 30, \"summer\": 35, \"autumn\": 30},\n",
        "    \"Cairo\": {\"winter\": 15, \"spring\": 25, \"summer\": 35, \"autumn\": 25},\n",
        "    \"Mexico City\": {\"winter\": 12, \"spring\": 18, \"summer\": 20, \"autumn\": 15},\n",
        "}\n",
        "\n",
        "# Сопоставление месяцев с сезонами\n",
        "month_to_season = {12: \"winter\", 1: \"winter\", 2: \"winter\",\n",
        "                   3: \"spring\", 4: \"spring\", 5: \"spring\",\n",
        "                   6: \"summer\", 7: \"summer\", 8: \"summer\",\n",
        "                   9: \"autumn\", 10: \"autumn\", 11: \"autumn\"}\n",
        "\n",
        "# Генерация данных о температуре\n",
        "def generate_realistic_temperature_data(cities, num_years=10):\n",
        "    dates = pd.date_range(start=\"2010-01-01\", periods=365 * num_years, freq=\"D\")\n",
        "    data = []\n",
        "\n",
        "    for city in cities:\n",
        "        for date in dates:\n",
        "            season = month_to_season[date.month]\n",
        "            mean_temp = seasonal_temperatures[city][season]\n",
        "            # Добавляем случайное отклонение\n",
        "            temperature = np.random.normal(loc=mean_temp, scale=5)\n",
        "            data.append({\"city\": city, \"timestamp\": date, \"temperature\": temperature})\n",
        "\n",
        "    df = pd.DataFrame(data)\n",
        "    df['season'] = df['timestamp'].dt.month.map(lambda x: month_to_season[x])\n",
        "    return df\n",
        "\n",
        "# Генерация данных\n",
        "data = generate_realistic_temperature_data(list(seasonal_temperatures.keys()))\n",
        "data.to_csv('temperature_data.csv', index=False, )\n"
      ]
    },
    {
      "cell_type": "markdown",
      "metadata": {},
      "source": [
        "Вычисление скользящего среднего и стандартного отклонения для сглаживания температурных колебаний.\n",
        "   - Определение аномалий на основе отклонений температуры от $ \\text{скользящее среднее} \\pm 2\\sigma $.\n",
        "   - Построение долгосрочных трендов изменения температуры.\n",
        "   - Любые дополнительные исследования будут вам в плюс."
      ]
    },
    {
      "cell_type": "markdown",
      "metadata": {},
      "source": [
        "# Задание № 1"
      ]
    },
    {
      "cell_type": "markdown",
      "metadata": {},
      "source": [
        "1. Провести **анализ временных рядов**, включая:\n",
        "   - Вычисление скользящего среднего и стандартного отклонения для сглаживания температурных колебаний.\n",
        "   - Определение аномалий на основе отклонений температуры от $ \\text{скользящее среднее} \\pm 2\\sigma $.\n",
        "   - Построение долгосрочных трендов изменения температуры.\n",
        "   - Любые дополнительные исследования будут вам в плюс."
      ]
    },
    {
      "cell_type": "code",
      "execution_count": 3,
      "metadata": {},
      "outputs": [],
      "source": [
        "# В первой лекции по временным рядам на 1:05:15 препод рассказывает про resample во временных рядах\n",
        "def hard_function(df, city):\n",
        "    \"\"\"\n",
        "    Необходимо создать \"тяжелую функцию\". В этой функции для одного города:\n",
        "    1.1. Считаются скользящим окном среднее и std. Тут же ищутся все аномалии относительно скользящих средних и std. \n",
        "         Больше эти данные полученные скользящим окном мы нигде не используем.\n",
        "    1.2. Далее мы делаем groupby по сезону и считаем mean std для исходной температуры. Таким образом мы получаем профиль сезона.\n",
        "    1.3. Ищем тренд (регрессия или что получше). Если обучаете регрессию, смотрите на коэффициент и возвращаете положительный или отрицательный тренд.\n",
        "    1.4. Считаем среднюю, min, max температуры за все время.\n",
        "\n",
        "    Необходимо вернуть следующую информацию:\n",
        "    Город,\n",
        "    Average/min/max температуры, \n",
        "    профиль сезона, \n",
        "    а также уклон тренда и список аномальных точек для города.\n",
        "\n",
        "    Далее необходимо распараллелить эту функцию.\n",
        "    \"\"\"\n",
        "    # Берем только данные по заданному городу\n",
        "    df = df[df['city'] == city].reset_index(drop=True).copy()\n",
        "    # Рассчитываем mean/std скользящим окном размера 30\n",
        "    df['mean_rolling30'] = df['temperature'].rolling(30).mean()#.reset_index(0, drop=True)\n",
        "    df['std_rolling30'] = df['temperature'].rolling(30).std()#.reset_index(0, drop=True)\n",
        "    # Заполняем NaN'ы из первого окна первым рассчитанным значением std/mean\n",
        "    df['mean_rolling30'] = df['mean_rolling30'].bfill()\n",
        "    df['std_rolling30'] = df['std_rolling30'].bfill()\n",
        "    # Рассчитваем границы выбросов mean(+-)2std\n",
        "    df['mean-2std'] = df['mean_rolling30'] - 2 * df['std_rolling30']\n",
        "    df['mean+2std'] = df['mean_rolling30'] + 2 * df['std_rolling30']\n",
        "    # Проставляем флаг is_outlier_sma. True - если наблюдение выходит за границы выбросов, рассчитанных по скользящему среднему\n",
        "    df.loc[(df['temperature'] < df['mean-2std']) | (df['temperature'] > df['mean+2std']), 'is_outlier_sma'] = True\n",
        "    df['is_outlier_sma'] = df['is_outlier_sma'].fillna(False)\n",
        "    # Считаем профиль сезона и границы выбросов для сезонов\n",
        "    df_season_profile = df.groupby('season')['temperature'].agg(average_season='mean', std_season='std').reset_index(0)\n",
        "    df_season_profile['mean-2std_season'] = df_season_profile['average_season'] - 2 * df_season_profile['std_season']\n",
        "    df_season_profile['mean+2std_season'] = df_season_profile['average_season'] + 2 * df_season_profile['std_season']\n",
        "    df = df.merge(df_season_profile, how='left', on='season')\n",
        "    # Выявление выбросов на основании сезонного профиля\n",
        "    df.loc[(df['temperature'] < df['mean-2std_season']) | (df['temperature'] > df['mean+2std_season']), 'is_outlier_season'] = True\n",
        "    df['is_outlier_season'] = df['is_outlier_season'].fillna(False)\n",
        "    # Ищем уклон тренда на основании линейной регрессии (часть информации позаимствовал отсюда https://medium.com/vortechsa/detecting-trends-in-time-series-data-using-python-2752be7d1172)\n",
        "    # Для поиска тренда удалим часть наблюдений, являющихся выбросами, посчитанными через сезонный профиль\n",
        "    X = df[~df['is_outlier_season']].reset_index(drop=True).index.values.reshape(-1, 1)\n",
        "    y = df[~df['is_outlier_season']]['temperature'].reset_index(drop=True).values.reshape(-1, 1)\n",
        "    lr_model = LinearRegression().fit(X, y)\n",
        "    #y_pred = lr_model.predict(X)\n",
        "    # Наклон прямой тренда. Если >0, то тренд положительный. Если <0, то тренд отрицательный\n",
        "    slope = lr_model.coef_[0][0]\n",
        "    # Считаем avg/min/max температур за все время\n",
        "    temp_mean_alltime, temp_min_alltime, temp_max_alltime = df['temperature'].mean(), df['temperature'].min(), df['temperature'].max()\n",
        "\n",
        "    return {\n",
        "        'city': city,\n",
        "        'temp_mean': temp_mean_alltime,\n",
        "        'temp_min': temp_min_alltime,\n",
        "        'temp_max': temp_max_alltime,\n",
        "        'season_profile': df_season_profile,\n",
        "        'trend_slope': slope,\n",
        "        'list_outliers': df[df['is_outlier_season']]['timestamp'].to_list()\n",
        "    }\n",
        "    \n"
      ]
    },
    {
      "cell_type": "code",
      "execution_count": 4,
      "metadata": {},
      "outputs": [],
      "source": [
        "# Заносим в переменную список городов\n",
        "list_of_cities = list(data.city.unique())"
      ]
    },
    {
      "cell_type": "code",
      "execution_count": 5,
      "metadata": {},
      "outputs": [
        {
          "name": "stdout",
          "output_type": "stream",
          "text": [
            "--- 0.14899635314941406 seconds ---\n"
          ]
        }
      ],
      "source": [
        "# Фиксируем время исполнения функции в цикле по всем городам\n",
        "start_time = time.time()\n",
        "for i_city in list_of_cities:\n",
        "    hard_function(data, i_city)\n",
        "end_time = time.time()\n",
        "\n",
        "exec_time_pandas = end_time - start_time\n",
        "print(\"--- %s seconds ---\" % (exec_time_pandas))"
      ]
    },
    {
      "cell_type": "markdown",
      "metadata": {},
      "source": [
        "# Попытка распаралелить вычисления с помощью polars. Сравнение двух подходов.\n",
        "\n",
        "Перепишем функцию hard_function в нотации polars."
      ]
    },
    {
      "cell_type": "code",
      "execution_count": 6,
      "metadata": {},
      "outputs": [],
      "source": [
        "# В первой лекции по временным рядам на 1:05:15 препод рассказывает про resample во временных рядах\n",
        "def hard_function_parallel(df, city):\n",
        "    \"\"\"\n",
        "    Необходимо создать \"тяжелую функцию\". В этой функции для одного города:\n",
        "    1.1. Считаются скользящим окном среднее и std. Тут же ищутся все аномалии относительно скользящих средних и std. \n",
        "         Больше эти данные полученные скользящим окном мы нигде не используем.\n",
        "    1.2. Далее мы делаем groupby по сезону и считаем mean std для исходной температуры. Таким образом мы получаем профиль сезона.\n",
        "    1.3. Ищем тренд (регрессия или что получше). Если обучаете регрессию, смотрите на коэффициент и возвращаете положительный или отрицательный тренд.\n",
        "    1.4. Считаем среднюю, min, max температуры за все время.\n",
        "\n",
        "    Необходимо вернуть следующую информацию:\n",
        "    Город,\n",
        "    Average/min/max температуры, \n",
        "    профиль сезона, \n",
        "    а также уклон тренда и список аномальных точек для города.\n",
        "    \"\"\"\n",
        "    df = df.filter(pl.col(\"city\") == city)\n",
        "    # Рассчитываем mean/std скользящим окном размера 30\n",
        "    df = df.with_columns(mean_rolling30 = df['temperature'].rolling_mean(30))\n",
        "    df = df.with_columns(std_rolling30 = df['temperature'].rolling_std(30))\n",
        "    # Заполняем NaN'ы из первого окна первым рассчитанным значением std/mean\n",
        "    df = df.with_columns(pl.col('mean_rolling30').backward_fill())\n",
        "    df = df.with_columns(pl.col('std_rolling30').backward_fill())\n",
        "    # Рассчитваем границы выбросов mean(+-)2std\n",
        "    df = df.with_columns(meanm_2std = pl.col('mean_rolling30') - 2 * pl.col('std_rolling30'))\n",
        "    df = df.with_columns(meanp_2std = pl.col('mean_rolling30') + 2 * pl.col('std_rolling30'))\n",
        "    # Проставляем флаг is_outlier_sma. True - если наблюдение выходит за границы выбросов, рассчитанных по скользящему среднему\n",
        "    df = df.with_columns(pl.when((pl.col(\"temperature\") < pl.col('meanm_2std')) | (pl.col(\"temperature\") > pl.col('meanp_2std'))).then(True).otherwise(False).alias(\"is_outlier_sma\"))\n",
        "    # Считаем профиль сезона и границы выбросов для сезонов\n",
        "    df_season_profile = df.group_by(\"season\", maintain_order=False).agg(pl.mean(\"temperature\").alias(\"average_season\"),\n",
        "                                                                        pl.std(\"temperature\").alias(\"std_season\"))\n",
        "    df_season_profile = df_season_profile.with_columns(meanm_2std_season = pl.col('average_season') - 2 * pl.col('std_season'))\n",
        "    df_season_profile = df_season_profile.with_columns(meanp_2std_season = pl.col('average_season') + 2 * pl.col('std_season'))\n",
        "    df = df.join(df_season_profile, on='season', how='left')\n",
        "    # Выявление выбросов на основании сезонного профиля\n",
        "    df = df.with_columns(pl.when((pl.col(\"temperature\") < pl.col('meanm_2std_season')) | (pl.col(\"temperature\") > pl.col('meanp_2std_season'))).then(True).otherwise(False).alias(\"is_outlier_season\"))\n",
        "    # Ищем уклон тренда на основании линейной регрессии (часть информации позаимствовал отсюда https://github.com/abstractqqq/polars_ds_extension/blob/main/examples/basics.ipynb\n",
        "    # Для поиска тренда удалим часть наблюдений, являющихся выбросами, посчитанными через сезонный профиль\n",
        "    df_ = df.filter(pl.col('is_outlier_season')==False).with_row_index()\n",
        "    df_ = df_.select(\n",
        "        pds.lin_reg(\n",
        "            pl.col(\"index\"),\n",
        "            target = pl.col(\"temperature\"),\n",
        "            add_bias=True\n",
        "        )\n",
        "    )\n",
        "    # Наклон прямой тренда. Если >0, то тренд положительный. Если <0, то тренд отрицательный\n",
        "    slope = df_['lstsq_coeffs'][0][0]\n",
        "    # Считаем avg/min/max температур за все время\n",
        "    temp_mean_alltime, temp_min_alltime, temp_max_alltime = df['temperature'].mean(), df['temperature'].min(), df['temperature'].max()\n",
        "    return {\n",
        "            'city': city,\n",
        "            'temp_mean': temp_mean_alltime,\n",
        "            'temp_min': temp_min_alltime,\n",
        "            'temp_max': temp_max_alltime,\n",
        "            'season_profile': df_season_profile,\n",
        "            'trend_slope': slope,\n",
        "            'list_outliers': list(df.filter(pl.col('is_outlier_season')==True)['timestamp'])\n",
        "        }"
      ]
    },
    {
      "cell_type": "code",
      "execution_count": 23,
      "metadata": {},
      "outputs": [
        {
          "name": "stdout",
          "output_type": "stream",
          "text": [
            "--- 0.02900242805480957 seconds ---\n"
          ]
        }
      ],
      "source": [
        "# Создаем polars DataFrame на основе pandas DataFrame\n",
        "data_pl = pl.from_pandas(data)\n",
        "\n",
        "# Фиксируем время исполнения функции в цикле по всем городам\n",
        "start_time = time.time()\n",
        "for i_city in list_of_cities:\n",
        "    hard_function_parallel(data_pl, i_city)\n",
        "end_time = time.time()\n",
        "\n",
        "exec_time_polars = end_time - start_time\n",
        "print(\"--- %s seconds ---\" % (exec_time_polars))"
      ]
    },
    {
      "cell_type": "code",
      "execution_count": 24,
      "metadata": {},
      "outputs": [
        {
          "name": "stdout",
          "output_type": "stream",
          "text": [
            "Время исполнения функции без параллелизации: 0.14899635314941406\n",
            "Время исполнения функции c параллелизацией: 0.02900242805480957\n"
          ]
        }
      ],
      "source": [
        "print('Время исполнения функции без параллелизации:', exec_time_pandas)\n",
        "print('Время исполнения функции c параллелизацией:', exec_time_polars)"
      ]
    },
    {
      "cell_type": "markdown",
      "metadata": {},
      "source": [
        "`Вывод: функция с параллельными вычислениями работает в ~5 раз быстрее, чем функция без параллельных вычислений.`"
      ]
    },
    {
      "cell_type": "markdown",
      "metadata": {},
      "source": [
        "# Задание № 2"
      ]
    },
    {
      "cell_type": "markdown",
      "metadata": {},
      "source": [
        "2. **Мониторинг текущей температуры**:\n",
        "   - Подключить OpenWeatherMap API для получения текущей температуры города. Для получения API Key (бесплатно) надо зарегистрироваться на сайте. Обратите внимание, что API Key может активироваться только через 2-3 часа, это нормально. Посему получите ключ заранее.\n",
        "   - Получить текущую температуру для выбранного города через OpenWeatherMap API.\n",
        "   - Определить, является ли текущая температура нормальной, исходя из исторических данных для текущего сезона.\n",
        "   - Данные на самом деле не совсем реальные (сюрпрайз). Поэтому на момент эксперимента погода в Берлине, Каире и Дубае была в рамках нормы, а в Пекине и Москве аномальная. Протестируйте свое решение для разных городов.\n",
        "   - Попробуйте для получения текущей температуры использовать синхронные и асинхронные методы. Что здесь лучше использовать?"
      ]
    },
    {
      "cell_type": "code",
      "execution_count": 9,
      "metadata": {},
      "outputs": [],
      "source": [
        "API_KEY = ..."
      ]
    },
    {
      "cell_type": "code",
      "execution_count": 10,
      "metadata": {},
      "outputs": [],
      "source": [
        "def get_post(api_key, city_name):\n",
        "    # units={'metric'} позволяет указать шкалу Цельсия для вывода температуры\n",
        "    url = f\"https://api.openweathermap.org/data/2.5/weather?q={city_name}&appid={api_key}&units={'metric'}\"\n",
        "    response = requests.get(url)\n",
        "    if response.status_code == 200:\n",
        "        return response.json()\n",
        "    else:\n",
        "        return {\"error\": response.status_code}\n",
        "    \n",
        "\n",
        "def get_info_outliers(api_key, city_name, season='winter'):\n",
        "\t# Получаем информацию по API\n",
        "\tresponse = get_post(api_key=api_key, city_name=city_name)\n",
        "\ttemp_curr = response['main']['temp']\n",
        "\t# Выгружаем информацию по границам выбросов для данного города и сезона\n",
        "\tdf_ = hard_function(data, city_name)['season_profile']\n",
        "\tlow_bound = df_.loc[(df_['season']==season), 'mean-2std_season'].values[0]\n",
        "\thigh_bound = df_.loc[(df_['season']==season), 'mean+2std_season'].values[0]\n",
        "\n",
        "\tif (temp_curr < low_bound) or (temp_curr > high_bound):\n",
        "\t\tprint(f\"\"\"Город: {city_name}. Сезон: {season}. Температура: {temp_curr} - аномальная. Границы нормальной температуры [{low_bound}, {high_bound}]\"\"\")\n",
        "\telse:\n",
        "\t\tprint(f\"\"\"Город: {city_name}. Сезон: {season}. Температура: {temp_curr} - нормальная. Границы нормальной температуры [{low_bound}, {high_bound}]\"\"\")\n",
        "            \n",
        "\t\t\n",
        "def fetch_posts_sequential(list_city_name, api_key=API_KEY, season='winter'):\n",
        "    start_time = time.time()\n",
        "\n",
        "    for city_name in list_city_name:\n",
        "        get_info_outliers(api_key=api_key, city_name=city_name, season=season)\n",
        "\n",
        "    elapsed_time = time.time() - start_time\n",
        "    return elapsed_time"
      ]
    },
    {
      "cell_type": "code",
      "execution_count": 11,
      "metadata": {},
      "outputs": [],
      "source": [
        "list_city_name = ['New York', 'London', 'Paris', 'Tokyo', 'Moscow', 'Sydney',\n",
        "\t\t\t\t  'Berlin', 'Beijing', 'Rio de Janeiro', 'Dubai', 'Los Angeles',\n",
        "\t\t\t\t  'Singapore', 'Mumbai', 'Cairo', 'Mexico City']"
      ]
    },
    {
      "cell_type": "code",
      "execution_count": 12,
      "metadata": {},
      "outputs": [
        {
          "name": "stdout",
          "output_type": "stream",
          "text": [
            "Город: New York. Сезон: winter. Температура: 1.61 - нормальная. Границы нормальной температуры [-9.830046279643676, 9.84855222838887]\n",
            "Город: London. Сезон: winter. Температура: 7.67 - нормальная. Границы нормальной температуры [-4.823825871577629, 14.976501797138983]\n",
            "Город: Paris. Сезон: winter. Температура: 7.36 - нормальная. Границы нормальной температуры [-6.028473857658276, 13.629527673961498]\n",
            "Город: Tokyo. Сезон: winter. Температура: 4.84 - нормальная. Границы нормальной температуры [-4.477718962353418, 16.443845314370154]\n",
            "Город: Moscow. Сезон: winter. Температура: 2.58 - аномальная. Границы нормальной температуры [-19.45015433571867, -0.36151043386273685]\n",
            "Город: Sydney. Сезон: winter. Температура: 21.23 - нормальная. Границы нормальной температуры [1.4287445189831196, 22.314323341357674]\n",
            "Город: Berlin. Сезон: winter. Температура: 3.9 - нормальная. Границы нормальной температуры [-9.988724337553375, 10.045540717172315]\n",
            "Город: Beijing. Сезон: winter. Температура: -5.06 - нормальная. Границы нормальной температуры [-11.94202779881395, 8.055346638819604]\n",
            "Город: Rio de Janeiro. Сезон: winter. Температура: 25.1 - нормальная. Границы нормальной температуры [9.98374668449604, 29.9153505295831]\n",
            "Город: Dubai. Сезон: winter. Температура: 19.96 - нормальная. Границы нормальной температуры [9.668120893425224, 30.038595613823666]\n",
            "Город: Los Angeles. Сезон: winter. Температура: 22.03 - нормальная. Границы нормальной температуры [5.1957450156847145, 25.12827464234038]\n",
            "Город: Singapore. Сезон: winter. Температура: 25.68 - нормальная. Границы нормальной температуры [16.90725225030431, 36.93701214278467]\n",
            "Город: Mumbai. Сезон: winter. Температура: 22.99 - нормальная. Границы нормальной температуры [14.787136789070619, 35.38846925296035]\n",
            "Город: Cairo. Сезон: winter. Температура: 15.42 - нормальная. Границы нормальной температуры [4.861370615508621, 25.089447185119724]\n",
            "Город: Mexico City. Сезон: winter. Температура: 19.97 - нормальная. Границы нормальной температуры [2.132509586434173, 21.53458208935494]\n"
          ]
        }
      ],
      "source": [
        "sequential_time_request = fetch_posts_sequential(list_city_name, api_key=API_KEY, season='winter')"
      ]
    },
    {
      "cell_type": "markdown",
      "metadata": {},
      "source": [
        "Асинхронная реализация функций выше.\n",
        "\n",
        "Однозначно лучше использовать асинхронность при получении данных из API и их последующей обработке. Поскольку в данном случае наша задача является IO-bounded и гораздо быстрее будет распараллелить получение ответа от API, нежели ждать последовательно ответы от каждого запроса."
      ]
    },
    {
      "cell_type": "code",
      "execution_count": 13,
      "metadata": {},
      "outputs": [],
      "source": [
        "# Это та жа функция из первого задания, только добавил async\n",
        "async def hard_function(df, city):\n",
        "    \"\"\"\n",
        "    Необходимо создать \"тяжелую функцию\". В этой функции для одного города:\n",
        "    1.1. Считаются скользящим окном среднее и std. Тут же ищутся все аномалии относительно скользящих средних и std. \n",
        "         Больше эти данные полученные скользящим окном мы нигде не используем.\n",
        "    1.2. Далее мы делаем groupby по сезону и считаем mean std для исходной температуры. Таким образом мы получаем профиль сезона.\n",
        "    1.3. Ищем тренд (регрессия или что получше). Если обучаете регрессию, смотрите на коэффициент и возвращаете положительный или отрицательный тренд.\n",
        "    1.4. Считаем среднюю, min, max температуры за все время.\n",
        "\n",
        "    Необходимо вернуть следующую информацию:\n",
        "    Город,\n",
        "    Average/min/max температуры, \n",
        "    профиль сезона, \n",
        "    а также уклон тренда и список аномальных точек для города.\n",
        "\n",
        "    Далее необходимо распараллелить эту функцию.\n",
        "    \"\"\"\n",
        "    # Берем только данные по заданному городу\n",
        "    df = df[df['city'] == city].reset_index(drop=True).copy()\n",
        "    # Рассчитываем mean/std скользящим окном размера 30\n",
        "    df['mean_rolling30'] = df['temperature'].rolling(30).mean()#.reset_index(0, drop=True)\n",
        "    df['std_rolling30'] = df['temperature'].rolling(30).std()#.reset_index(0, drop=True)\n",
        "    # Заполняем NaN'ы из первого окна первым рассчитанным значением std/mean\n",
        "    df['mean_rolling30'] = df['mean_rolling30'].bfill()\n",
        "    df['std_rolling30'] = df['std_rolling30'].bfill()\n",
        "    # Рассчитваем границы выбросов mean(+-)2std\n",
        "    df['mean-2std'] = df['mean_rolling30'] - 2 * df['std_rolling30']\n",
        "    df['mean+2std'] = df['mean_rolling30'] + 2 * df['std_rolling30']\n",
        "    # Проставляем флаг is_outlier_sma. True - если наблюдение выходит за границы выбросов, рассчитанных по скользящему среднему\n",
        "    df.loc[(df['temperature'] < df['mean-2std']) | (df['temperature'] > df['mean+2std']), 'is_outlier_sma'] = True\n",
        "    df['is_outlier_sma'] = df['is_outlier_sma'].fillna(False)\n",
        "    # Считаем профиль сезона и границы выбросов для сезонов\n",
        "    df_season_profile = df.groupby('season')['temperature'].agg(average_season='mean', std_season='std').reset_index(0)\n",
        "    df_season_profile['mean-2std_season'] = df_season_profile['average_season'] - 2 * df_season_profile['std_season']\n",
        "    df_season_profile['mean+2std_season'] = df_season_profile['average_season'] + 2 * df_season_profile['std_season']\n",
        "    df = df.merge(df_season_profile, how='left', on='season')\n",
        "    # Выявление выбросов на основании сезонного профиля\n",
        "    df.loc[(df['temperature'] < df['mean-2std_season']) | (df['temperature'] > df['mean+2std_season']), 'is_outlier_season'] = True\n",
        "    df['is_outlier_season'] = df['is_outlier_season'].fillna(False)\n",
        "    # Ищем уклон тренда на основании линейной регрессии (часть информации позаимствовал отсюда https://medium.com/vortechsa/detecting-trends-in-time-series-data-using-python-2752be7d1172)\n",
        "    # Для поиска тренда удалим часть наблюдений, являющихся выбросами, посчитанными через сезонный профиль\n",
        "    X = df[~df['is_outlier_season']].reset_index(drop=True).index.values.reshape(-1, 1)\n",
        "    y = df[~df['is_outlier_season']]['temperature'].reset_index(drop=True).values.reshape(-1, 1)\n",
        "    lr_model = LinearRegression().fit(X, y)\n",
        "    #y_pred = lr_model.predict(X)\n",
        "    # Наклон прямой тренда. Если >0, то тренд положительный. Если <0, то тренд отрицательный\n",
        "    slope = lr_model.coef_[0][0]\n",
        "    # Считаем avg/min/max температур за все время\n",
        "    temp_mean_alltime, temp_min_alltime, temp_max_alltime = df['temperature'].mean(), df['temperature'].min(), df['temperature'].max()\n",
        "\n",
        "    return {\n",
        "        'city': city,\n",
        "        'temp_mean': temp_mean_alltime,\n",
        "        'temp_min': temp_min_alltime,\n",
        "        'temp_max': temp_max_alltime,\n",
        "        'season_profile': df_season_profile,\n",
        "        'trend_slope': slope,\n",
        "        'list_outliers': df[df['is_outlier_season']]['timestamp'].to_list()\n",
        "    }\n",
        "    \n"
      ]
    },
    {
      "cell_type": "code",
      "execution_count": 14,
      "metadata": {},
      "outputs": [],
      "source": [
        "async def get_post(api_key, city_name):\n",
        "    # units={'metric'} позволяет указать шкалу Цельсия для вывода температуры\n",
        "    url = f\"https://api.openweathermap.org/data/2.5/weather?q={city_name}&appid={api_key}&units={'metric'}\"\n",
        "    async with aiohttp.ClientSession() as session:\n",
        "        async with session.get(url) as response:\n",
        "            return await response.json()\n",
        "    \n",
        "\n",
        "async def get_info_outliers(api_key, city_name, season='winter'):\n",
        "\t# Получаем информацию по API\n",
        "\tresponse = await get_post(api_key=api_key, city_name=city_name)\n",
        "\ttemp_curr = response['main']['temp']\n",
        "\t# Выгружаем информацию по границам выбросов для данного города и сезона\n",
        "\tdf_ = (await hard_function(data, city_name))['season_profile']\n",
        "\tlow_bound = df_.loc[(df_['season']==season), 'mean-2std_season'].values[0]\n",
        "\thigh_bound = df_.loc[(df_['season']==season), 'mean+2std_season'].values[0]\n",
        "\n",
        "\tif (temp_curr < low_bound) or (temp_curr > high_bound):\n",
        "\t\tprint(f\"\"\"Город: {city_name}. Сезон: {season}. Температура: {temp_curr} - аномальная. Границы нормальной температуры [{low_bound}, {high_bound}]\"\"\")\n",
        "\telse:\n",
        "\t\tprint(f\"\"\"Город: {city_name}. Сезон: {season}. Температура: {temp_curr} - нормальная. Границы нормальной температуры [{low_bound}, {high_bound}]\"\"\")\n",
        "            \n",
        "\t\t\n",
        "async def fetch_posts_async(list_city_name, api_key=API_KEY, season='winter'):\n",
        "    start_time = time.time()\n",
        "    tasks = [get_info_outliers(api_key=API_KEY, city_name=i_cn, season='winter') for i_cn in list_city_name]\n",
        "    results = await asyncio.gather(*tasks)\n",
        "    elapsed_time = time.time() - start_time\n",
        "    return elapsed_time"
      ]
    },
    {
      "cell_type": "code",
      "execution_count": 15,
      "metadata": {},
      "outputs": [
        {
          "name": "stdout",
          "output_type": "stream",
          "text": [
            "Город: New York. Сезон: winter. Температура: 1.62 - нормальная. Границы нормальной температуры [-9.830046279643676, 9.84855222838887]\n",
            "Город: Sydney. Сезон: winter. Температура: 21.23 - нормальная. Границы нормальной температуры [1.4287445189831196, 22.314323341357674]\n",
            "Город: Tokyo. Сезон: winter. Температура: 4.84 - нормальная. Границы нормальной температуры [-4.477718962353418, 16.443845314370154]\n",
            "Город: Beijing. Сезон: winter. Температура: -5.06 - нормальная. Границы нормальной температуры [-11.94202779881395, 8.055346638819604]\n",
            "Город: Mumbai. Сезон: winter. Температура: 22.99 - нормальная. Границы нормальной температуры [14.787136789070619, 35.38846925296035]\n",
            "Город: Paris. Сезон: winter. Температура: 7.36 - нормальная. Границы нормальной температуры [-6.028473857658276, 13.629527673961498]\n",
            "Город: Moscow. Сезон: winter. Температура: 2.58 - аномальная. Границы нормальной температуры [-19.45015433571867, -0.36151043386273685]\n",
            "Город: Los Angeles. Сезон: winter. Температура: 22.04 - нормальная. Границы нормальной температуры [5.1957450156847145, 25.12827464234038]\n",
            "Город: London. Сезон: winter. Температура: 7.67 - нормальная. Границы нормальной температуры [-4.823825871577629, 14.976501797138983]\n",
            "Город: Singapore. Сезон: winter. Температура: 25.68 - нормальная. Границы нормальной температуры [16.90725225030431, 36.93701214278467]\n",
            "Город: Dubai. Сезон: winter. Температура: 19.96 - нормальная. Границы нормальной температуры [9.668120893425224, 30.038595613823666]\n",
            "Город: Rio de Janeiro. Сезон: winter. Температура: 25.1 - нормальная. Границы нормальной температуры [9.98374668449604, 29.9153505295831]\n",
            "Город: Cairo. Сезон: winter. Температура: 15.42 - нормальная. Границы нормальной температуры [4.861370615508621, 25.089447185119724]\n",
            "Город: Berlin. Сезон: winter. Температура: 3.9 - нормальная. Границы нормальной температуры [-9.988724337553375, 10.045540717172315]\n",
            "Город: Mexico City. Сезон: winter. Температура: 19.97 - нормальная. Границы нормальной температуры [2.132509586434173, 21.53458208935494]\n"
          ]
        }
      ],
      "source": [
        "async_time_request = await fetch_posts_async(list_city_name=list_city_name, api_key=API_KEY, season='winter')"
      ]
    },
    {
      "cell_type": "code",
      "execution_count": 16,
      "metadata": {},
      "outputs": [
        {
          "name": "stdout",
          "output_type": "stream",
          "text": [
            "Время ожидания запросов в последовательном режиме: 6.31068754196167\n",
            "Время ожидания запросов в асинхронном режиме: 0.3014826774597168\n"
          ]
        }
      ],
      "source": [
        "print('Время ожидания запросов в последовательном режиме:', sequential_time_request)\n",
        "print('Время ожидания запросов в асинхронном режиме:', async_time_request)"
      ]
    },
    {
      "cell_type": "markdown",
      "metadata": {},
      "source": [
        "Видим, что время обработки запросов в асинронном режиме в ~10 раз быстрее чем в последовательном"
      ]
    },
    {
      "cell_type": "markdown",
      "metadata": {},
      "source": [
        "# Задание №3"
      ]
    },
    {
      "cell_type": "markdown",
      "metadata": {},
      "source": [
        "3. **Создание приложения на Streamlit**:\n",
        "   - Добавить интерфейс для загрузки файла с историческими данными.\n",
        "   - Добавить интерфейс для выбора города (из выпадающего списка).\n",
        "   - Добавить форму для ввода API-ключа OpenWeatherMap. Когда он не введен, данные для текущей погоды не показываются. Если ключ некорректный, выведите на экран ошибку (должно приходить `{\"cod\":401, \"message\": \"Invalid API key. Please see https://openweathermap.org/faq#error401 for more info.\"}`).\n",
        "   - Отобразить:\n",
        "     - Описательную статистику по историческим данным для города, можно добавить визуализации.\n",
        "     - Временной ряд температур с выделением аномалий (например, точками другого цвета).\n",
        "     - Сезонные профили с указанием среднего и стандартного отклонения.\n",
        "   - Вывести текущую температуру через API и указать, нормальна ли она для сезона."
      ]
    },
    {
      "cell_type": "markdown",
      "metadata": {},
      "source": [
        "`Код реализации сервиса на streamlit см. в файле app.py`"
      ]
    }
  ],
  "metadata": {
    "colab": {
      "provenance": []
    },
    "kernelspec": {
      "display_name": ".venv",
      "language": "python",
      "name": "python3"
    },
    "language_info": {
      "codemirror_mode": {
        "name": "ipython",
        "version": 3
      },
      "file_extension": ".py",
      "mimetype": "text/x-python",
      "name": "python",
      "nbconvert_exporter": "python",
      "pygments_lexer": "ipython3",
      "version": "3.10.10"
    }
  },
  "nbformat": 4,
  "nbformat_minor": 0
}
